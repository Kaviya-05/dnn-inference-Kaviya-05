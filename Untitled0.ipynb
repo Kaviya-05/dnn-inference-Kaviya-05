{
  "nbformat": 4,
  "nbformat_minor": 0,
  "metadata": {
    "colab": {
      "provenance": [],
      "authorship_tag": "ABX9TyMOJFzpmQQG2fkpnEeyw+wG",
      "include_colab_link": true
    },
    "kernelspec": {
      "name": "python3",
      "display_name": "Python 3"
    },
    "language_info": {
      "name": "python"
    }
  },
  "cells": [
    {
      "cell_type": "markdown",
      "metadata": {
        "id": "view-in-github",
        "colab_type": "text"
      },
      "source": [
        "<a href=\"https://colab.research.google.com/github/Kaviya-05/dnn-inference-Kaviya-05/blob/main/Untitled0.ipynb\" target=\"_parent\"><img src=\"https://colab.research.google.com/assets/colab-badge.svg\" alt=\"Open In Colab\"/></a>"
      ]
    },
    {
      "cell_type": "code",
      "source": [
        "import tensorflow as tf\n",
        "\n",
        "model = tf.keras.Sequential([\n",
        "    tf.keras.layers.Flatten(input_shape=(28, 28)),\n",
        "    tf.keras.layers.Dense(256, activation='relu'),\n",
        "    tf.keras.layers.BatchNormalization(),\n",
        "    tf.keras.layers.Dropout(0.3),\n",
        "    tf.keras.layers.Dense(128, activation='relu'),\n",
        "    tf.keras.layers.BatchNormalization(),\n",
        "    tf.keras.layers.Dropout(0.3),\n",
        "    tf.keras.layers.Dense(10, activation='softmax')\n",
        "])\n",
        "\n",
        "model.compile(optimizer='adam',\n",
        "              loss='sparse_categorical_crossentropy',\n",
        "              metrics=['accuracy'])\n"
      ],
      "metadata": {
        "id": "rqwk5uH2ayhH"
      },
      "execution_count": 66,
      "outputs": []
    },
    {
      "cell_type": "code",
      "source": [
        "model.compile(\n",
        "    optimizer='adam',\n",
        "    loss='categorical_crossentropy',\n",
        "    metrics=['accuracy']\n",
        ")\n",
        "\n",
        "# Train the model\n",
        "model.fit(x_train, y_train, epochs=30, batch_size=64, validation_split=0.1)\n"
      ],
      "metadata": {
        "colab": {
          "base_uri": "https://localhost:8080/"
        },
        "id": "7DmQq-24a1w9",
        "outputId": "6212b288-499a-410a-a834-8d5d5f0f57b9"
      },
      "execution_count": 67,
      "outputs": [
        {
          "output_type": "stream",
          "name": "stdout",
          "text": [
            "Epoch 1/30\n",
            "\u001b[1m844/844\u001b[0m \u001b[32m━━━━━━━━━━━━━━━━━━━━\u001b[0m\u001b[37m\u001b[0m \u001b[1m11s\u001b[0m 9ms/step - accuracy: 0.7461 - loss: 0.7317 - val_accuracy: 0.8015 - val_loss: 0.5105\n",
            "Epoch 2/30\n",
            "\u001b[1m844/844\u001b[0m \u001b[32m━━━━━━━━━━━━━━━━━━━━\u001b[0m\u001b[37m\u001b[0m \u001b[1m8s\u001b[0m 9ms/step - accuracy: 0.8336 - loss: 0.4627 - val_accuracy: 0.8557 - val_loss: 0.3841\n",
            "Epoch 3/30\n",
            "\u001b[1m844/844\u001b[0m \u001b[32m━━━━━━━━━━━━━━━━━━━━\u001b[0m\u001b[37m\u001b[0m \u001b[1m7s\u001b[0m 9ms/step - accuracy: 0.8455 - loss: 0.4306 - val_accuracy: 0.8602 - val_loss: 0.3861\n",
            "Epoch 4/30\n",
            "\u001b[1m844/844\u001b[0m \u001b[32m━━━━━━━━━━━━━━━━━━━━\u001b[0m\u001b[37m\u001b[0m \u001b[1m11s\u001b[0m 10ms/step - accuracy: 0.8498 - loss: 0.4113 - val_accuracy: 0.8628 - val_loss: 0.3668\n",
            "Epoch 5/30\n",
            "\u001b[1m844/844\u001b[0m \u001b[32m━━━━━━━━━━━━━━━━━━━━\u001b[0m\u001b[37m\u001b[0m \u001b[1m10s\u001b[0m 10ms/step - accuracy: 0.8577 - loss: 0.3921 - val_accuracy: 0.8675 - val_loss: 0.3509\n",
            "Epoch 6/30\n",
            "\u001b[1m844/844\u001b[0m \u001b[32m━━━━━━━━━━━━━━━━━━━━\u001b[0m\u001b[37m\u001b[0m \u001b[1m7s\u001b[0m 9ms/step - accuracy: 0.8621 - loss: 0.3801 - val_accuracy: 0.8652 - val_loss: 0.3650\n",
            "Epoch 7/30\n",
            "\u001b[1m844/844\u001b[0m \u001b[32m━━━━━━━━━━━━━━━━━━━━\u001b[0m\u001b[37m\u001b[0m \u001b[1m11s\u001b[0m 10ms/step - accuracy: 0.8658 - loss: 0.3669 - val_accuracy: 0.8688 - val_loss: 0.3511\n",
            "Epoch 8/30\n",
            "\u001b[1m844/844\u001b[0m \u001b[32m━━━━━━━━━━━━━━━━━━━━\u001b[0m\u001b[37m\u001b[0m \u001b[1m10s\u001b[0m 10ms/step - accuracy: 0.8692 - loss: 0.3542 - val_accuracy: 0.8747 - val_loss: 0.3473\n",
            "Epoch 9/30\n",
            "\u001b[1m844/844\u001b[0m \u001b[32m━━━━━━━━━━━━━━━━━━━━\u001b[0m\u001b[37m\u001b[0m \u001b[1m11s\u001b[0m 10ms/step - accuracy: 0.8681 - loss: 0.3614 - val_accuracy: 0.8655 - val_loss: 0.3387\n",
            "Epoch 10/30\n",
            "\u001b[1m844/844\u001b[0m \u001b[32m━━━━━━━━━━━━━━━━━━━━\u001b[0m\u001b[37m\u001b[0m \u001b[1m9s\u001b[0m 9ms/step - accuracy: 0.8724 - loss: 0.3526 - val_accuracy: 0.8727 - val_loss: 0.3424\n",
            "Epoch 11/30\n",
            "\u001b[1m844/844\u001b[0m \u001b[32m━━━━━━━━━━━━━━━━━━━━\u001b[0m\u001b[37m\u001b[0m \u001b[1m7s\u001b[0m 9ms/step - accuracy: 0.8771 - loss: 0.3388 - val_accuracy: 0.8800 - val_loss: 0.3259\n",
            "Epoch 12/30\n",
            "\u001b[1m844/844\u001b[0m \u001b[32m━━━━━━━━━━━━━━━━━━━━\u001b[0m\u001b[37m\u001b[0m \u001b[1m8s\u001b[0m 10ms/step - accuracy: 0.8752 - loss: 0.3365 - val_accuracy: 0.8750 - val_loss: 0.3330\n",
            "Epoch 13/30\n",
            "\u001b[1m844/844\u001b[0m \u001b[32m━━━━━━━━━━━━━━━━━━━━\u001b[0m\u001b[37m\u001b[0m \u001b[1m10s\u001b[0m 9ms/step - accuracy: 0.8833 - loss: 0.3252 - val_accuracy: 0.8800 - val_loss: 0.3275\n",
            "Epoch 14/30\n",
            "\u001b[1m844/844\u001b[0m \u001b[32m━━━━━━━━━━━━━━━━━━━━\u001b[0m\u001b[37m\u001b[0m \u001b[1m8s\u001b[0m 10ms/step - accuracy: 0.8810 - loss: 0.3251 - val_accuracy: 0.8743 - val_loss: 0.3295\n",
            "Epoch 15/30\n",
            "\u001b[1m844/844\u001b[0m \u001b[32m━━━━━━━━━━━━━━━━━━━━\u001b[0m\u001b[37m\u001b[0m \u001b[1m10s\u001b[0m 10ms/step - accuracy: 0.8829 - loss: 0.3186 - val_accuracy: 0.8740 - val_loss: 0.3385\n",
            "Epoch 16/30\n",
            "\u001b[1m844/844\u001b[0m \u001b[32m━━━━━━━━━━━━━━━━━━━━\u001b[0m\u001b[37m\u001b[0m \u001b[1m11s\u001b[0m 11ms/step - accuracy: 0.8815 - loss: 0.3216 - val_accuracy: 0.8798 - val_loss: 0.3235\n",
            "Epoch 17/30\n",
            "\u001b[1m844/844\u001b[0m \u001b[32m━━━━━━━━━━━━━━━━━━━━\u001b[0m\u001b[37m\u001b[0m \u001b[1m7s\u001b[0m 8ms/step - accuracy: 0.8869 - loss: 0.3088 - val_accuracy: 0.8855 - val_loss: 0.3149\n",
            "Epoch 18/30\n",
            "\u001b[1m844/844\u001b[0m \u001b[32m━━━━━━━━━━━━━━━━━━━━\u001b[0m\u001b[37m\u001b[0m \u001b[1m9s\u001b[0m 10ms/step - accuracy: 0.8862 - loss: 0.3076 - val_accuracy: 0.8847 - val_loss: 0.3058\n",
            "Epoch 19/30\n",
            "\u001b[1m844/844\u001b[0m \u001b[32m━━━━━━━━━━━━━━━━━━━━\u001b[0m\u001b[37m\u001b[0m \u001b[1m9s\u001b[0m 11ms/step - accuracy: 0.8871 - loss: 0.3003 - val_accuracy: 0.8847 - val_loss: 0.3135\n",
            "Epoch 20/30\n",
            "\u001b[1m844/844\u001b[0m \u001b[32m━━━━━━━━━━━━━━━━━━━━\u001b[0m\u001b[37m\u001b[0m \u001b[1m7s\u001b[0m 8ms/step - accuracy: 0.8875 - loss: 0.2996 - val_accuracy: 0.8777 - val_loss: 0.3217\n",
            "Epoch 21/30\n",
            "\u001b[1m844/844\u001b[0m \u001b[32m━━━━━━━━━━━━━━━━━━━━\u001b[0m\u001b[37m\u001b[0m \u001b[1m11s\u001b[0m 10ms/step - accuracy: 0.8890 - loss: 0.2984 - val_accuracy: 0.8847 - val_loss: 0.3170\n",
            "Epoch 22/30\n",
            "\u001b[1m844/844\u001b[0m \u001b[32m━━━━━━━━━━━━━━━━━━━━\u001b[0m\u001b[37m\u001b[0m \u001b[1m11s\u001b[0m 10ms/step - accuracy: 0.8929 - loss: 0.2888 - val_accuracy: 0.8835 - val_loss: 0.3139\n",
            "Epoch 23/30\n",
            "\u001b[1m844/844\u001b[0m \u001b[32m━━━━━━━━━━━━━━━━━━━━\u001b[0m\u001b[37m\u001b[0m \u001b[1m8s\u001b[0m 9ms/step - accuracy: 0.8946 - loss: 0.2829 - val_accuracy: 0.8858 - val_loss: 0.3083\n",
            "Epoch 24/30\n",
            "\u001b[1m844/844\u001b[0m \u001b[32m━━━━━━━━━━━━━━━━━━━━\u001b[0m\u001b[37m\u001b[0m \u001b[1m7s\u001b[0m 9ms/step - accuracy: 0.8949 - loss: 0.2858 - val_accuracy: 0.8833 - val_loss: 0.3165\n",
            "Epoch 25/30\n",
            "\u001b[1m844/844\u001b[0m \u001b[32m━━━━━━━━━━━━━━━━━━━━\u001b[0m\u001b[37m\u001b[0m \u001b[1m8s\u001b[0m 10ms/step - accuracy: 0.8926 - loss: 0.2923 - val_accuracy: 0.8852 - val_loss: 0.3109\n",
            "Epoch 26/30\n",
            "\u001b[1m844/844\u001b[0m \u001b[32m━━━━━━━━━━━━━━━━━━━━\u001b[0m\u001b[37m\u001b[0m \u001b[1m10s\u001b[0m 10ms/step - accuracy: 0.8964 - loss: 0.2815 - val_accuracy: 0.8863 - val_loss: 0.3091\n",
            "Epoch 27/30\n",
            "\u001b[1m844/844\u001b[0m \u001b[32m━━━━━━━━━━━━━━━━━━━━\u001b[0m\u001b[37m\u001b[0m \u001b[1m7s\u001b[0m 8ms/step - accuracy: 0.8985 - loss: 0.2781 - val_accuracy: 0.8857 - val_loss: 0.3020\n",
            "Epoch 28/30\n",
            "\u001b[1m844/844\u001b[0m \u001b[32m━━━━━━━━━━━━━━━━━━━━\u001b[0m\u001b[37m\u001b[0m \u001b[1m8s\u001b[0m 10ms/step - accuracy: 0.8959 - loss: 0.2792 - val_accuracy: 0.8858 - val_loss: 0.3094\n",
            "Epoch 29/30\n",
            "\u001b[1m844/844\u001b[0m \u001b[32m━━━━━━━━━━━━━━━━━━━━\u001b[0m\u001b[37m\u001b[0m \u001b[1m10s\u001b[0m 9ms/step - accuracy: 0.8949 - loss: 0.2858 - val_accuracy: 0.8765 - val_loss: 0.3258\n",
            "Epoch 30/30\n",
            "\u001b[1m844/844\u001b[0m \u001b[32m━━━━━━━━━━━━━━━━━━━━\u001b[0m\u001b[37m\u001b[0m \u001b[1m9s\u001b[0m 8ms/step - accuracy: 0.8968 - loss: 0.2798 - val_accuracy: 0.8808 - val_loss: 0.3186\n"
          ]
        },
        {
          "output_type": "execute_result",
          "data": {
            "text/plain": [
              "<keras.src.callbacks.history.History at 0x7c9da79f3e90>"
            ]
          },
          "metadata": {},
          "execution_count": 67
        }
      ]
    },
    {
      "cell_type": "code",
      "source": [
        "# Evaluate accuracy on test set\n",
        "test_loss, test_acc = model.evaluate(x_test, y_test)\n",
        "print(f'Test accuracy: {test_acc:.4f}')\n"
      ],
      "metadata": {
        "colab": {
          "base_uri": "https://localhost:8080/"
        },
        "id": "nB2GLuQ9AW1J",
        "outputId": "a586f21f-4d6e-4860-d78f-7eadcc891c99"
      },
      "execution_count": 68,
      "outputs": [
        {
          "output_type": "stream",
          "name": "stdout",
          "text": [
            "\u001b[1m313/313\u001b[0m \u001b[32m━━━━━━━━━━━━━━━━━━━━\u001b[0m\u001b[37m\u001b[0m \u001b[1m1s\u001b[0m 3ms/step - accuracy: 0.8771 - loss: 0.3545\n",
            "Test accuracy: 0.8749\n"
          ]
        }
      ]
    },
    {
      "cell_type": "code",
      "source": [
        "# Save full model (for backup)\n",
        "model.save(\"fashion_mnist.h5\")\n",
        "\n",
        "# Save architecture to JSON\n",
        "with open(\"fashion_mnist.json\", \"w\") as f:\n",
        "    f.write(model.to_json())\n",
        "\n",
        "# Save weights to .npz\n",
        "weights = {}\n",
        "for i, layer in enumerate(model.layers):\n",
        "    for j, w in enumerate(layer.get_weights()):\n",
        "        key = f\"layer_{i}_{'w' if j == 0 else 'b'}\"\n",
        "        weights[key] = w\n",
        "np.savez(\"fashion_mnist.npz\", **weights)\n"
      ],
      "metadata": {
        "colab": {
          "base_uri": "https://localhost:8080/"
        },
        "id": "2Oh29VoUBbNV",
        "outputId": "1070b51d-dcf3-48fc-d0a4-6b335651564d"
      },
      "execution_count": 86,
      "outputs": [
        {
          "output_type": "stream",
          "name": "stderr",
          "text": [
            "WARNING:absl:You are saving your model as an HDF5 file via `model.save()` or `keras.saving.save_model(model)`. This file format is considered legacy. We recommend using instead the native Keras format, e.g. `model.save('my_model.keras')` or `keras.saving.save_model(model, 'my_model.keras')`. \n"
          ]
        }
      ]
    },
    {
      "cell_type": "code",
      "source": [
        "['layer_0_w', 'layer_0_b', 'layer_1_w', 'layer_1_b', ...]\n"
      ],
      "metadata": {
        "colab": {
          "base_uri": "https://localhost:8080/"
        },
        "id": "HrN1bR6ZFNF4",
        "outputId": "491eade2-33cd-4a87-ef74-37ab1c56c024"
      },
      "execution_count": 87,
      "outputs": [
        {
          "output_type": "execute_result",
          "data": {
            "text/plain": [
              "['layer_0_w', 'layer_0_b', 'layer_1_w', 'layer_1_b', Ellipsis]"
            ]
          },
          "metadata": {},
          "execution_count": 87
        }
      ]
    },
    {
      "cell_type": "code",
      "source": [
        "import numpy as np\n",
        "\n",
        "def relu(x):\n",
        "    return np.maximum(0, x)\n",
        "\n",
        "def softmax(x):\n",
        "    # Subtract max for numerical stability\n",
        "    exp_x = np.exp(x - np.max(x, axis=1, keepdims=True))\n",
        "    return exp_x / np.sum(exp_x, axis=1, keepdims=True)\n"
      ],
      "metadata": {
        "id": "rAUhnwBUFQoq"
      },
      "execution_count": 88,
      "outputs": []
    },
    {
      "cell_type": "code",
      "source": [
        "!git add model/fashion_mnist.json model/fashion_mnist.npz\n",
        "!git commit -m \"Add trained Fashion-MNIST model files\"\n",
        "!git push origin main   # or your current branch\n"
      ],
      "metadata": {
        "colab": {
          "base_uri": "https://localhost:8080/"
        },
        "id": "qE_Cy500GOoy",
        "outputId": "be7295ff-77d4-4981-fd68-55ff8801095c"
      },
      "execution_count": 90,
      "outputs": [
        {
          "output_type": "stream",
          "name": "stdout",
          "text": [
            "fatal: not a git repository (or any of the parent directories): .git\n",
            "fatal: not a git repository (or any of the parent directories): .git\n",
            "fatal: not a git repository (or any of the parent directories): .git\n"
          ]
        }
      ]
    },
    {
      "cell_type": "code",
      "source": [
        "!git config --global user.email \"your_email@example.com\"\n",
        "!git config --global user.name \"Your Name\"\n",
        "!git clone https://github.com/your-username/your-repo.git\n",
        "%cd your-repo\n",
        "\n",
        "# Move your files into the model folder\n",
        "!mv /path/to/fashion_mnist.json ./model/\n",
        "!mv /path/to/fashion_mnist.npz ./model/\n",
        "\n",
        "!git add model/fashion_mnist.*\n",
        "!git commit -m \"Add Fashion-MNIST model files\"\n",
        "!git push origin main  # or your branch\n"
      ],
      "metadata": {
        "colab": {
          "base_uri": "https://localhost:8080/"
        },
        "id": "wSHgc5aoHxx7",
        "outputId": "7b309759-f38a-4be6-f381-7aa86855da92"
      },
      "execution_count": 91,
      "outputs": [
        {
          "output_type": "stream",
          "name": "stdout",
          "text": [
            "Cloning into 'your-repo'...\n",
            "fatal: could not read Username for 'https://github.com': No such device or address\n",
            "[Errno 2] No such file or directory: 'your-repo'\n",
            "/content\n",
            "mv: cannot stat '/path/to/fashion_mnist.json': No such file or directory\n",
            "mv: cannot stat '/path/to/fashion_mnist.npz': No such file or directory\n",
            "fatal: not a git repository (or any of the parent directories): .git\n",
            "fatal: not a git repository (or any of the parent directories): .git\n",
            "fatal: not a git repository (or any of the parent directories): .git\n"
          ]
        }
      ]
    }
  ]
}